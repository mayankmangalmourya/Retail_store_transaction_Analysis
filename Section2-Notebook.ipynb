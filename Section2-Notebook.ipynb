{
 "cells": [
  {
   "cell_type": "markdown",
   "metadata": {},
   "source": [
    "# Section 2 - Coding\n",
    "\n",
    "In this section we will load and manipulate \"unconventional\" data files - for which you will be required to create a simple loading functionality and then be able to process and query a data file.\n",
    "\n",
    "There is a \"section2_data.txt\" file attached to this IPython notebook. The data file contains few rows from a computer vision dataset. Each row corresponds to a frame in a video and contains some metadata and annotations over it.\n",
    "\n",
    "The following notebook will pose some questions about reading and processing this data.\n",
    "\n",
    "Feel free to use any existing python library to answer the questions."
   ]
  },
  {
   "cell_type": "code",
   "execution_count": 2,
   "metadata": {},
   "outputs": [
    {
     "name": "stdout",
     "output_type": "stream",
     "text": [
      "{\"_i\": 0, \"frame\": \"frame_000.png\", \"video\": \"video000\", \"value\": 39, \"labels\": [\"bird\"]}\r\n",
      "{\"_i\": 1, \"frame\": \"frame_001.png\", \"video\": \"video000\", \"value\": 33, \"labels\": [\"frog\", \"dog\"]}\r\n",
      "{\"_i\": 2, \"frame\": \"frame_002.png\", \"video\": \"video000\", \"value\": 25, \"labels\": [\"panda\", \"panda\"]}\r\n",
      "{\"_i\": 3, \"frame\": \"frame_003.png\", \"video\": \"video000\", \"value\": 28, \"labels\": [\"dog\", \"dog\"]}\r\n",
      "{\"_i\": 4, \"frame\": \"frame_004.png\", \"video\": \"video000\", \"value\": 16, \"labels\": [\"cat\"]}\r\n",
      "{\"_i\": 5, \"frame\": \"frame_005.png\", \"video\": \"video000\", \"value\": 32, \"labels\": [\"bird\", \"frog\", \"bird\"]}\r\n",
      "{\"_i\": 6, \"frame\": \"frame_006.png\", \"video\": \"video000\", \"value\": 35, \"labels\": [\"bird\", \"dog\"]}\r\n",
      "{\"_i\": 7, \"frame\": \"frame_000.png\", \"video\": \"video001\", \"value\": 25, \"labels\": [\"dog\", \"bird\"]}\r\n",
      "{\"_i\": 8, \"frame\": \"frame_001.png\", \"video\": \"video001\", \"value\": 16, \"labels\": [\"dog\", \"panda\", \"bird\"]}\r\n",
      "{\"_i\": 9, \"frame\": \"frame_002.png\", \"video\": \"video001\", \"value\": 23, \"labels\": [\"panda\"]}\r\n"
     ]
    }
   ],
   "source": [
    "!head section2_data.txt"
   ]
  },
  {
   "cell_type": "markdown",
   "metadata": {},
   "source": [
    "## Section 1 - Design a data loader\n",
    "\n",
    "Design a data structure, that give a file path `\"section2_data.txt\"`, it will read and parse the contents of the file above.\n",
    "\n",
    "#### Q1 - Design the data structure with the following properties:\n",
    "- The data structure is either callable or indexable. It will accepts a single parameter, as integer, and return the parsed contents of the row corresponding to the given index.\n",
    "- The data structure needs to return the number of rows in the file (and in memory) when called with the python command `len(my_data_struct)`\n"
   ]
  },
  {
   "cell_type": "code",
   "execution_count": 3,
   "metadata": {
    "ExecuteTime": {
     "end_time": "2021-06-22T09:41:50.450031Z",
     "start_time": "2021-06-22T09:41:50.441896Z"
    }
   },
   "outputs": [],
   "source": [
    "## YOUR SOLUTION\n",
    "class DataLoader:\n",
    "    def __init__(self, file_path):\n",
    "        self.data = []\n",
    "        with open(file_path, 'r') as f:\n",
    "            for line in f:\n",
    "                row = eval(line.strip())\n",
    "                self.data.append(row)\n",
    "\n",
    "    def __getitem__(self, index):\n",
    "        return self.data[index]\n",
    "\n",
    "    def __len__(self):\n",
    "        return len(self.data)"
   ]
  },
  {
   "cell_type": "code",
   "execution_count": 4,
   "metadata": {},
   "outputs": [],
   "source": [
    "my_data = DataLoader('/home/windows/Desktop/Kirana_club_intern/section2_data.txt')"
   ]
  },
  {
   "cell_type": "code",
   "execution_count": 6,
   "metadata": {},
   "outputs": [
    {
     "data": {
      "text/plain": [
       "{'_i': 0,\n",
       " 'frame': 'frame_000.png',\n",
       " 'video': 'video000',\n",
       " 'value': 39,\n",
       " 'labels': ['bird']}"
      ]
     },
     "execution_count": 6,
     "metadata": {},
     "output_type": "execute_result"
    }
   ],
   "source": [
    "row = my_data[0]\n",
    "row"
   ]
  },
  {
   "cell_type": "code",
   "execution_count": 7,
   "metadata": {},
   "outputs": [
    {
     "data": {
      "text/plain": [
       "51"
      ]
     },
     "execution_count": 7,
     "metadata": {},
     "output_type": "execute_result"
    }
   ],
   "source": [
    "num_rows = len(my_data)\n",
    "num_rows"
   ]
  },
  {
   "cell_type": "markdown",
   "metadata": {},
   "source": [
    "#### Q2 - Prove that you can initialize the reader and then calculate its length `len(reader)` and print the 26th and 43rd elements of the dataset."
   ]
  },
  {
   "cell_type": "code",
   "execution_count": 12,
   "metadata": {},
   "outputs": [
    {
     "name": "stdout",
     "output_type": "stream",
     "text": [
      "51\n"
     ]
    }
   ],
   "source": [
    "## YOUR SOLUTION\n",
    "# Initialize the reader\n",
    "reader = my_data\n",
    "\n",
    "# Calculate the length of the reader\n",
    "print(len(reader))"
   ]
  },
  {
   "cell_type": "code",
   "execution_count": 13,
   "metadata": {},
   "outputs": [
    {
     "name": "stdout",
     "output_type": "stream",
     "text": [
      "{'_i': 25, 'frame': 'frame_003.png', 'video': 'video003', 'value': 24, 'labels': ['panda']}\n",
      "{'_i': 42, 'frame': 'frame_002.png', 'video': 'video004', 'value': 32, 'labels': ['panda', 'bird', 'cat']}\n"
     ]
    }
   ],
   "source": [
    "# Print the 26th element\n",
    "print(reader[25])\n",
    "\n",
    "# Print the 43rd element\n",
    "print(reader[42])"
   ]
  },
  {
   "cell_type": "markdown",
   "metadata": {},
   "source": [
    "## Section 2 - Process the data\n",
    "\n",
    "#### Q1 - Write an algorithm that will generate a dictionary with key/value pairs, where the keys are the name of each unique video in the dataset and the value is the number of frames of that video."
   ]
  },
  {
   "cell_type": "code",
   "execution_count": 14,
   "metadata": {},
   "outputs": [],
   "source": [
    "### YOUT SOLUTION\n",
    "def video_frame_count(my_data_struct):\n",
    "    frame_count = {}\n",
    "    for row in my_data_struct:\n",
    "        video = row['video']\n",
    "        if video not in frame_count:\n",
    "            frame_count[video] = 0\n",
    "        frame_count[video] += 1\n",
    "    return frame_count"
   ]
  },
  {
   "cell_type": "code",
   "execution_count": 15,
   "metadata": {},
   "outputs": [
    {
     "data": {
      "text/plain": [
       "{'video000': 7, 'video001': 10, 'video002': 5, 'video003': 18, 'video004': 11}"
      ]
     },
     "execution_count": 15,
     "metadata": {},
     "output_type": "execute_result"
    }
   ],
   "source": [
    "video_frame_count(my_data)"
   ]
  },
  {
   "cell_type": "markdown",
   "metadata": {},
   "source": [
    "#### Q2 - Write an algorithm that will generate a dictionary with key/value pairs, where the keys are the name of each unique video in the dataset and the value is the sum of the `value` field of all the frames containing a `dog`."
   ]
  },
  {
   "cell_type": "code",
   "execution_count": 16,
   "metadata": {},
   "outputs": [],
   "source": [
    "### YOUR SOLUTION\n",
    "def video_value_sum_with_dog(my_data_struct):\n",
    "    video_dog_value_dict = {}\n",
    "    for row in my_data_struct:\n",
    "        if \"dog\" in row[\"labels\"]:\n",
    "            video_name = row[\"video\"]\n",
    "            if video_name not in video_dog_value_dict:\n",
    "                video_dog_value_dict[video_name] = row[\"value\"]\n",
    "            else:\n",
    "                video_dog_value_dict[video_name] += row[\"value\"]\n",
    "    return video_dog_value_dict"
   ]
  },
  {
   "cell_type": "code",
   "execution_count": 17,
   "metadata": {},
   "outputs": [
    {
     "data": {
      "text/plain": [
       "{'video000': 96,\n",
       " 'video001': 69,\n",
       " 'video002': 91,\n",
       " 'video003': 129,\n",
       " 'video004': 49}"
      ]
     },
     "execution_count": 17,
     "metadata": {},
     "output_type": "execute_result"
    }
   ],
   "source": [
    "video_value_sum_with_dog(my_data)"
   ]
  },
  {
   "cell_type": "markdown",
   "metadata": {},
   "source": [
    "#### Q3 - Last, create an algorithm that returns a dictionary with the count of each of the animal types in the dataset, excluding occurrences in `video003` and rows where the `value` is odd."
   ]
  },
  {
   "cell_type": "code",
   "execution_count": 19,
   "metadata": {},
   "outputs": [],
   "source": [
    "### YOUR SOLUTION\n",
    "def animal_count(my_data_struct):\n",
    "   animal_counts = {}\n",
    "   for row in my_data_struct:\n",
    "       if row[\"video\"] == \"video003\" or row[\"value\"] % 2 != 0:\n",
    "           continue\n",
    "       for label in row[\"labels\"]:\n",
    "           if label in animal_counts:\n",
    "               animal_counts[label] += 1\n",
    "           else:\n",
    "               animal_counts[label] = 1\n",
    "   return animal_counts"
   ]
  },
  {
   "cell_type": "code",
   "execution_count": 20,
   "metadata": {},
   "outputs": [
    {
     "data": {
      "text/plain": [
       "{'dog': 10, 'cat': 7, 'bird': 6, 'frog': 8, 'panda': 4}"
      ]
     },
     "execution_count": 20,
     "metadata": {},
     "output_type": "execute_result"
    }
   ],
   "source": [
    "animal_count(my_data)"
   ]
  },
  {
   "cell_type": "code",
   "execution_count": null,
   "metadata": {},
   "outputs": [],
   "source": []
  }
 ],
 "metadata": {
  "interpreter": {
   "hash": "569d6b7e9215e11aba41c6454007e5c1b78bad7df09dab765d8cf00362c40f03"
  },
  "kernelspec": {
   "display_name": "Python 3 (ipykernel)",
   "language": "python",
   "name": "python3"
  },
  "language_info": {
   "codemirror_mode": {
    "name": "ipython",
    "version": 3
   },
   "file_extension": ".py",
   "mimetype": "text/x-python",
   "name": "python",
   "nbconvert_exporter": "python",
   "pygments_lexer": "ipython3",
   "version": "3.11.2"
  },
  "toc": {
   "base_numbering": 1,
   "nav_menu": {},
   "number_sections": true,
   "sideBar": true,
   "skip_h1_title": false,
   "title_cell": "Table of Contents",
   "title_sidebar": "Contents",
   "toc_cell": false,
   "toc_position": {},
   "toc_section_display": true,
   "toc_window_display": false
  },
  "varInspector": {
   "cols": {
    "lenName": 16,
    "lenType": 16,
    "lenVar": 40
   },
   "kernels_config": {
    "python": {
     "delete_cmd_postfix": "",
     "delete_cmd_prefix": "del ",
     "library": "var_list.py",
     "varRefreshCmd": "print(var_dic_list())"
    },
    "r": {
     "delete_cmd_postfix": ") ",
     "delete_cmd_prefix": "rm(",
     "library": "var_list.r",
     "varRefreshCmd": "cat(var_dic_list()) "
    }
   },
   "types_to_exclude": [
    "module",
    "function",
    "builtin_function_or_method",
    "instance",
    "_Feature"
   ],
   "window_display": false
  }
 },
 "nbformat": 4,
 "nbformat_minor": 2
}
